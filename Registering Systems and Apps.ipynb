{
 "metadata": {
  "name": "",
  "signature": "sha256:3ffc98748a77457db1508db7081fdb88fbb28eab6d593c6c54944409fa52f836"
 },
 "nbformat": 3,
 "nbformat_minor": 0,
 "worksheets": [
  {
   "cells": [
    {
     "cell_type": "code",
     "collapsed": false,
     "input": [
      "import agavepy.agavepy as apy\n",
      "import requests"
     ],
     "language": "python",
     "metadata": {},
     "outputs": [],
     "prompt_number": 9
    },
    {
     "cell_type": "code",
     "collapsed": false,
     "input": [
      "a.clients.close()\n",
      "a = apy.AgaveAPI('wmoreira', 'e6YvDPFxl2gMr36KJNIVLuNv1')"
     ],
     "language": "python",
     "metadata": {},
     "outputs": [],
     "prompt_number": 148
    },
    {
     "cell_type": "code",
     "collapsed": false,
     "input": [
      "a.default_client = 'my_test_B'"
     ],
     "language": "python",
     "metadata": {},
     "outputs": [],
     "prompt_number": 149
    },
    {
     "cell_type": "code",
     "collapsed": false,
     "input": [
      "token = a.reset_token('my_test_B')"
     ],
     "language": "python",
     "metadata": {},
     "outputs": [],
     "prompt_number": 150
    },
    {
     "cell_type": "code",
     "collapsed": false,
     "input": [
      "token"
     ],
     "language": "python",
     "metadata": {},
     "outputs": [
      {
       "metadata": {},
       "output_type": "pyout",
       "prompt_number": 151,
       "text": [
        "'2ca0f25f2afebda10d4927d9be0c1e'"
       ]
      }
     ],
     "prompt_number": 151
    },
    {
     "cell_type": "code",
     "collapsed": false,
     "input": [
      "filename = '/Users/wmoreira/TACC/agave/agave-codegen/agave-sdk/agave-sdk-python/test-storage.nebula.tacc.json'"
     ],
     "language": "python",
     "metadata": {},
     "outputs": [],
     "prompt_number": 12
    },
    {
     "cell_type": "code",
     "collapsed": false,
     "input": [
      "a.add_system(filename)"
     ],
     "language": "python",
     "metadata": {},
     "outputs": [
      {
       "metadata": {},
       "output_type": "pyout",
       "prompt_number": 24,
       "text": [
        "{'status': 'success',\n",
        " 'version': '2.0.0-SNAPSHOT-reb586',\n",
        " 'message': None,\n",
        " 'result': {'description': 'My example system using ssh to submit jobs used for testing.',\n",
        "  'status': 'UP',\n",
        "  'type': 'STORAGE',\n",
        "  'storage': {'publicAppsDir': None,\n",
        "   'auth': {'type': 'SSHKEYS'},\n",
        "   'mirror': False,\n",
        "   'port': 22,\n",
        "   'host': '129.114.101.29',\n",
        "   'homeDir': '/home/rodeo',\n",
        "   'protocol': 'SFTP',\n",
        "   'proxy': None,\n",
        "   'rootDir': '/'},\n",
        "  '_links': {'roles': {'href': 'https://agave.iplantc.org/systems/v2/test-storage-wm.nebula.tacc2/roles'},\n",
        "   'credentials': {'href': 'https://agave.iplantc.org/systems/v2/test-storage-wm.nebula.tacc2/credentials'},\n",
        "   'self': {'href': 'https://agave.iplantc.org/systems/v2/test-storage-wm.nebula.tacc2'},\n",
        "   'metadata': {'href': 'https://agave.iplantc.org/meta/v2/data/?q={\"associationIds\":\"0001402957025292-5056a550b8-0001-006\"}'}},\n",
        "  'site': 'example.com',\n",
        "  'uuid': '0001402957025292-5056a550b8-0001-006',\n",
        "  'public': False,\n",
        "  'lastModified': '2014-06-16T17:17:05.311-05:00',\n",
        "  'revision': 1,\n",
        "  'name': 'Example SSH Storage Host on TACC Nebula',\n",
        "  'id': 'test-storage-wm.nebula.tacc2'}}"
       ]
      }
     ],
     "prompt_number": 24
    },
    {
     "cell_type": "code",
     "collapsed": false,
     "input": [
      "compute_filename = '/Users/wmoreira/TACC/agave/agave-codegen/agave-sdk/agave-sdk-python/test-compute.nebula.tacc.json'"
     ],
     "language": "python",
     "metadata": {},
     "outputs": [],
     "prompt_number": 31
    },
    {
     "cell_type": "code",
     "collapsed": false,
     "input": [
      "a.systems_add(compute_filename)"
     ],
     "language": "python",
     "metadata": {},
     "outputs": [
      {
       "metadata": {},
       "output_type": "pyout",
       "prompt_number": 34,
       "text": [
        "{'status': 'success',\n",
        " 'version': '2.0.0-SNAPSHOT-reb586',\n",
        " 'message': None,\n",
        " 'result': {'description': 'My example system using ssh to submit jobs used for testing.',\n",
        "  'executionType': 'CLI',\n",
        "  'workDir': '',\n",
        "  '_links': {'roles': {'href': 'https://agave.iplantc.org/systems/v2/test-compute-wm.nebula.tacc2/roles'},\n",
        "   'credentials': {'href': 'https://agave.iplantc.org/systems/v2/test-compute-wm.nebula.tacc2/credentials'},\n",
        "   'self': {'href': 'https://agave.iplantc.org/systems/v2/test-compute-wm.nebula.tacc2'},\n",
        "   'metadata': {'href': 'https://agave.iplantc.org/meta/v2/data/?q={\"associationIds\":\"0001402957434850-5056a550b8-0001-006\"}'}},\n",
        "  'status': 'UP',\n",
        "  'lastModified': '2014-06-16T17:23:54.887-05:00',\n",
        "  'maxSystemJobs': 100,\n",
        "  'maxSystemJobsPerUser': 10,\n",
        "  'id': 'test-compute-wm.nebula.tacc2',\n",
        "  'environment': None,\n",
        "  'uuid': '0001402957434850-5056a550b8-0001-006',\n",
        "  'type': 'EXECUTION',\n",
        "  'storage': {'mirror': False,\n",
        "   'auth': {'type': 'SSHKEYS'},\n",
        "   'port': 22,\n",
        "   'host': '129.114.101.29',\n",
        "   'homeDir': '/home/rodeo',\n",
        "   'protocol': 'SFTP',\n",
        "   'proxy': None,\n",
        "   'rootDir': '/'},\n",
        "  'startupScript': './bashrc',\n",
        "  'login': {'host': '129.114.101.29',\n",
        "   'auth': {'type': 'SSHKEYS'},\n",
        "   'protocol': 'SSH',\n",
        "   'proxy': None,\n",
        "   'port': 22},\n",
        "  'site': 'example.com',\n",
        "  'scheduler': 'FORK',\n",
        "  'scratchDir': '',\n",
        "  'queues': [{'maxProcessorsPerNode': 128,\n",
        "    'maxNodes': 128,\n",
        "    'maxJobs': 100,\n",
        "    'maxUserJobs': 10,\n",
        "    'name': 'debug',\n",
        "    'default': True,\n",
        "    'customDirectives': None,\n",
        "    'maxMemoryPerNode': 2}],\n",
        "  'public': False,\n",
        "  'name': 'Example SSH COMPUTE Host on TACC Nebula',\n",
        "  'revision': 1}}"
       ]
      }
     ],
     "prompt_number": 34
    },
    {
     "cell_type": "code",
     "collapsed": false,
     "input": [
      "a.systems_list(privateOnly=True)"
     ],
     "language": "python",
     "metadata": {},
     "outputs": [
      {
       "metadata": {},
       "output_type": "pyout",
       "prompt_number": 84,
       "text": [
        "{'status': 'success',\n",
        " 'version': '2.0.0-SNAPSHOT-rb6435',\n",
        " 'message': None,\n",
        " 'result': [{'description': 'My example system using ssh to submit jobs used for testing.',\n",
        "   'status': 'UP',\n",
        "   'type': 'STORAGE',\n",
        "   'public': False,\n",
        "   'name': 'Example SSH Storage Host on TACC Nebula',\n",
        "   'default': False,\n",
        "   '_links': {'self': {'href': 'https://agave.iplantc.org/systems/v2/test-storage-wm.nebula.tacc2'}},\n",
        "   'id': 'test-storage-wm.nebula.tacc2'},\n",
        "  {'description': 'My example system using ssh to submit jobs used for testing.',\n",
        "   'status': 'UP',\n",
        "   'type': 'EXECUTION',\n",
        "   'public': False,\n",
        "   'name': 'Example SSH COMPUTE Host on TACC Nebula',\n",
        "   'default': False,\n",
        "   '_links': {'self': {'href': 'https://agave.iplantc.org/systems/v2/test-compute-wm.nebula.tacc2'}},\n",
        "   'id': 'test-compute-wm.nebula.tacc2'}]}"
       ]
      }
     ],
     "prompt_number": 84
    },
    {
     "cell_type": "code",
     "collapsed": false,
     "input": [
      "a.apps_list(privateOnly=True)"
     ],
     "language": "python",
     "metadata": {},
     "outputs": [
      {
       "metadata": {},
       "output_type": "pyout",
       "prompt_number": 153,
       "text": [
        "{'status': 'success',\n",
        " 'version': '2.0.0-SNAPSHOT-r65755',\n",
        " 'message': None,\n",
        " 'result': [{'lastModified': '2014-06-17T11:19:53.000-05:00',\n",
        "   'shortDescription': 'Counts words in a file',\n",
        "   'revision': 1,\n",
        "   'isPublic': False,\n",
        "   'executionSystem': 'test-compute-wm.nebula.tacc2',\n",
        "   'name': 'wc-wm',\n",
        "   '_links': {'self': {'href': 'https://agave.iplantc.org/apps/v2/wc-wm-1.00'}},\n",
        "   'id': 'wc-wm-1.00',\n",
        "   'version': '1.00'}]}"
       ]
      }
     ],
     "prompt_number": 153
    },
    {
     "cell_type": "code",
     "collapsed": false,
     "input": [
      "a.apps_create({\n",
      "    #Whether the application is available.\n",
      "    'available': True,\n",
      "    #Whether the application supports checkpointing.\n",
      "    'checkpointable': False, # bool\n",
      "    #The max execution time that should be used if none is given in a job description. Ignore if the system does not support schedulers.\n",
      "    'defaultMaxRunTime': None, # str\n",
      "    #The default memory in GB to pass to the scheduler if none is given in the job description. This must be less than the max memory parameter in the target queue definition.\n",
      "    'defaultMemory': 1, # str\n",
      "    #The number of nodes that should be used if none is given in a job description. Ignore if the system does not support schedulers.\n",
      "    'defaultNodeCount': None, # str\n",
      "    #The number of processors to pass to the scheduler if none are given in the job description. This must be 1 if the app is serial.\n",
      "    'defaultProcessors': 1, # str\n",
      "    #The queue on the execution system that should be used if none is given in a job description. Ignore if the system does not support schedulers.\n",
      "    'defaultQueue': None, # str\n",
      "    #The location in the user's default storage system containing the application wrapper and dependencies.\n",
      "    'deploymentPath': 'apps/wc-1.00', # str\n",
      "    #The system id of the storage system where this app should run.\n",
      "    'deploymentSystem': 'test-storage-wm.nebula.tacc2', # str\n",
      "    #The system id of the execution system where this app should run.\n",
      "    'executionSystem': 'test-compute-wm.nebula.tacc2', # str\n",
      "    #The execution type of the application. If you're unsure, it's probably HPC.\n",
      "    'executionType': 'HPC', # str\n",
      "    #The URL where users can go for more information about the app.\n",
      "    'helpURI': 'http://www.gnu.org/s/coreutils/manual/html_node/wc-invocation.html', # str\n",
      "    #The icon to associate with this app.\n",
      "    'icon': None, # str\n",
      "\n",
      "    #The inputs files for this application. -- list[ApplicationInput]\n",
      "    'inputs': [\n",
      "                  {\n",
      "                     \"id\":\"query1\",\n",
      "                     \"value\": {\n",
      "                        \"default\": \"agave://demo.storage.example.com/apps/wc-1.00/picksumipsum.txt\",\n",
      "                        \"validator\": \"\",\n",
      "                        \"required\": True,\n",
      "                        \"visible\": True\n",
      "                     },\n",
      "                     \"details\":{\n",
      "                        \"label\": \"File to count words in:\",\n",
      "                        \"description\": \"\"\n",
      "                     },\n",
      "                     \"semantics\":{\n",
      "                        \"ontology\": [\n",
      "                           \"http://sswapmeet.sswap.info/util/TextDocument\"\n",
      "                        ],\n",
      "                        \"minCardinality\": 1,\n",
      "                        \"maxCardinality\": 1,\n",
      "                        \"fileTypes\": [\n",
      "                               \"text-0\"\n",
      "                        ]\n",
      "                     }\n",
      "                  }\n",
      "               ],\n",
      "    #The label to use when generating forms.\n",
      "    'label': 'Word Count', # str\n",
      "    #The full text description of this input to use when generating forms.\n",
      "    'longDescription': '', # str\n",
      "    #An array of modules to load prior to the execution of the application.\n",
      "    'modules': [\"purge\", \"load TACC\"], # list[str]\n",
      "    #The name of the application. The name does not have to be unique, but the combination of name and version does.\n",
      "    'name': 'wc-wm', # str\n",
      "    #An array of ontology values describing this application.\n",
      "    'ontology': [\"http://sswapmeet.sswap.info/algorithms/wc\"], # list[str]\n",
      "    #The outputs files for this application.\n",
      "    'outputs': None, # list[ApplicationOutput]\n",
      "    #The parallelism type of the application. If you're unsure, it's probably SERIAL.\n",
      "    'parallelism': 'SERIAL', # str\n",
      "\n",
      "    #The inputs parameters for this application - list[ApplicationParameter]\n",
      "    'parameters': [\n",
      "                    {\n",
      "                     \"id\":\"printLongestLine\",\n",
      "                     \"value\":{\n",
      "                        \"default\":False,\n",
      "                        \"type\":\"string\",\n",
      "                        \"validator\":\"\",\n",
      "                        \"visible\":True,\n",
      "                        \"required\":False\n",
      "                     },\n",
      "                     \"details\":{\n",
      "                        \"label\":\"Print the length of the longest line\",\n",
      "                        \"description\":\"Command option -L\"\n",
      "                     },\n",
      "                     \"semantics\":{\n",
      "                        \"ontology\":[\n",
      "                           \"xs:boolean\"\n",
      "                        ]\n",
      "                     }\n",
      "                  }\n",
      "               ],\n",
      "    #The short description of this application.\n",
      "    'shortDescription': 'Counts words in a file', # str\n",
      "    #An array of tags related to this application.\n",
      "    'tags': [\"textutils\", \"gnu\"], # list[str]\n",
      "    #The path to the wrapper script relative to the deploymentPath.\n",
      "    'templatePath': 'wrapper.sh', # str\n",
      "    #The path to the test script relative to the deploymentPath.\n",
      "    'testPath': 'wrapper.sh', # str\n",
      "    #The version of the application in #.#.# format. While the version does not need to be unique, the combination of name and version does have to be unique.\n",
      "    'version': '1.00' # str\n",
      "})"
     ],
     "language": "python",
     "metadata": {},
     "outputs": [
      {
       "metadata": {},
       "output_type": "pyout",
       "prompt_number": 152,
       "text": [
        "{'status': 'success',\n",
        " 'version': '2.0.0-SNAPSHOT-r65755',\n",
        " 'message': None,\n",
        " 'result': {'defaultMemoryPerNode': 1,\n",
        "  'deploymentPath': 'apps/wc-1.00',\n",
        "  'parameters': [{'semantics': {'ontology': ['xs:boolean']},\n",
        "    'id': 'printLongestLine',\n",
        "    'value': {'required': False,\n",
        "     'order': 0,\n",
        "     'type': 'string',\n",
        "     'validator': '',\n",
        "     'visible': True,\n",
        "     'default': 'false'},\n",
        "    'details': {'description': 'Command option -L',\n",
        "     'label': 'Print the length of the longest line',\n",
        "     'argument': None,\n",
        "     'showArgument': False}}],\n",
        "  'label': 'Word Count',\n",
        "  'testPath': 'wrapper.sh',\n",
        "  '_links': {'storageSystem': {'href': 'https://agave.iplantc.org/systems/v2/test-storage-wm.nebula.tacc2'},\n",
        "   'metadata': {'href': 'https://agave.iplantc.org/meta/v2/data/?q={\"associationIds\":\"0001403021993951-5056a550b8-0001-005\"}'},\n",
        "   'executionSystem': {'href': 'https://agave.iplantc.org/systems/v2/test-compute-wm.nebula.tacc2'},\n",
        "   'permissions': {'href': 'https://agave.iplantc.org/apps/v2/wc-wm-1.00/pems'},\n",
        "   'owner': {'href': 'https://agave.iplantc.org/profiles/v2/wmoreira'},\n",
        "   'self': {'href': 'https://agave.iplantc.org/apps/v2/wc-wm-1.00'}},\n",
        "  'tags': ['gnu', 'textutils'],\n",
        "  'templatePath': 'wrapper.sh',\n",
        "  'parallelism': 'SERIAL',\n",
        "  'shortDescription': 'Counts words in a file',\n",
        "  'version': '1.00',\n",
        "  'defaultProcessorsPerNode': 1,\n",
        "  'executionSystem': 'test-compute-wm.nebula.tacc2',\n",
        "  'modules': ['purge', 'load TACC'],\n",
        "  'id': 'wc-wm-1.00',\n",
        "  'lastModified': '2014-06-17T11:19:53.979-05:00',\n",
        "  'available': True,\n",
        "  'helpURI': 'http://www.gnu.org/s/coreutils/manual/html_node/wc-invocation.html',\n",
        "  'defaultNodeCount': 1,\n",
        "  'outputs': [],\n",
        "  'inputs': [{'semantics': {'minCardinality': 1,\n",
        "     'fileTypes': ['text-0'],\n",
        "     'ontology': ['http://sswapmeet.sswap.info/util/TextDocument']},\n",
        "    'id': 'query1',\n",
        "    'value': {'required': True,\n",
        "     'order': 0,\n",
        "     'default': 'agave://demo.storage.example.com/apps/wc-1.00/picksumipsum.txt',\n",
        "     'validator': '',\n",
        "     'visible': True},\n",
        "    'details': {'description': '',\n",
        "     'label': 'File to count words in:',\n",
        "     'argument': None,\n",
        "     'showArgument': False,\n",
        "     'visible': True}}],\n",
        "  'checkpointable': False,\n",
        "  'uuid': '0001403021993951-5056a550b8-0001-005',\n",
        "  'executionType': 'HPC',\n",
        "  'defaultQueue': None,\n",
        "  'ontology': ['http://sswapmeet.sswap.info/algorithms/wc'],\n",
        "  'isPublic': False,\n",
        "  'longDescription': '',\n",
        "  'name': 'wc-wm',\n",
        "  'icon': None,\n",
        "  'deploymentSystem': 'test-storage-wm.nebula.tacc2',\n",
        "  'revision': 1,\n",
        "  'defaultMaxRunTime': None}}"
       ]
      }
     ],
     "prompt_number": 152
    },
    {
     "cell_type": "code",
     "collapsed": false,
     "input": [],
     "language": "python",
     "metadata": {},
     "outputs": []
    }
   ],
   "metadata": {}
  }
 ]
}